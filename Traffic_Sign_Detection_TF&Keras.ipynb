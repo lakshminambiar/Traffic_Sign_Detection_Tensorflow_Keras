{
  "cells": [
    {
      "cell_type": "code",
      "execution_count": null,
      "metadata": {
        "id": "SyWAoj49DGjW"
      },
      "outputs": [],
      "source": [
        "import os\n",
        "import random\n",
        "import skimage.io\n",
        "import skimage.transform\n",
        "import matplotlib\n",
        "import matplotlib.pyplot as plt\n",
        "import numpy as np\n",
        "from scipy import ndimage\n",
        "from skimage import color\n",
        "from skimage import filters\n",
        "\n",
        "import keras\n",
        "from keras.models import Sequential\n",
        "from keras.layers import Dense, Flatten\n",
        "from keras.optimizers import SGD\n",
        "from keras.layers import Dropout\n",
        "from keras.optimizers import RMSprop\n",
        "from keras.layers.core import Dense, Dropout, Activation, Flatten\n",
        "from keras.layers.convolutional import Conv2D\n",
        "from keras.layers.pooling import MaxPooling2D\n",
        "from keras.utils import np_utils\n",
        "from keras.callbacks import LearningRateScheduler, ModelCheckpoint\n",
        "from keras import backend as K\n",
        "\n",
        "# Allow image embeding in notebook\n",
        "%matplotlib inline"
      ]
    },
    {
      "cell_type": "code",
      "execution_count": null,
      "metadata": {
        "id": "l6JQAq_gDJDG"
      },
      "outputs": [],
      "source": [
        "import cv2 as cv2\n",
        "import tensorflow as tf"
      ]
    },
    {
      "cell_type": "code",
      "execution_count": null,
      "metadata": {
        "id": "0ftBsw9XDLQX"
      },
      "outputs": [],
      "source": [
        "def load_data(data_dir):\n",
        "    \"\"\"Loads a data set and returns two lists:\n",
        "    images: a list of Numpy arrays, each representing an image.\n",
        "    labels: a list of numbers that represent the images labels.\n",
        "    This function could be used for both training data and testing data.\n",
        "    \"\"\"\n",
        "    # Get all subdirectories of data_dir. Each represents a label.\n",
        "    directories = [d for d in os.listdir(data_dir) \n",
        "                   if os.path.isdir(os.path.join(data_dir, d))]\n",
        "    # Loop through the label directories and collect the data in\n",
        "    # two lists, labels and images.\n",
        "    labels = []\n",
        "    images = []\n",
        "    for d in directories:\n",
        "        \n",
        "        label_dir = os.path.join(data_dir, d)\n",
        "        # print(label_dir) yes\n",
        "        file_names = [os.path.join(label_dir, f) \n",
        "                      for f in os.listdir(label_dir) if f.endswith(\".ppm\")]\n",
        "        # For each label, load it's images and add them to the images list.\n",
        "        # And add the label number (i.e. directory name) to the labels list.\n",
        "        # print(file_names)\n",
        "        for f in file_names:\n",
        "            print(f)\n",
        "            img = skimage.io.imread(f)\n",
        "            images.append(img)\n",
        "            print(img.shape)\n",
        "            labels.append(int(d))\n",
        "    return images, labels"
      ]
    },
    {
      "cell_type": "code",
      "execution_count": null,
      "metadata": {
        "id": "wWK0ZbriDNMB"
      },
      "outputs": [],
      "source": [
        "from sklearn.model_selection import train_test_split"
      ]
    },
    {
      "cell_type": "markdown",
      "metadata": {
        "id": "ojGMqGf3EaPo"
      },
      "source": [
        "Load & Parse Data"
      ]
    },
    {
      "cell_type": "code",
      "execution_count": null,
      "metadata": {
        "id": "DnCV9hCfDPqN"
      },
      "outputs": [],
      "source": [
        "ROOT_PATH = \"insert directory of your data\"\n",
        "train_data_dir = os.path.join(ROOT_PATH,\"insert directory of your training data\")\n",
        "test_data_dir =  os.path.join(ROOT_PATH,\"insert directory of your testing data\")\n",
        "images, labels = load_data(train_data_dir)\n",
        "test_images, test_labels = load_data(test_data_dir)"
      ]
    },
    {
      "cell_type": "markdown",
      "metadata": {
        "id": "PfVgLj63Ec5U"
      },
      "source": [
        "Resizing Training  data to 32x32, Enter size of your choice if not 32x32"
      ]
    },
    {
      "cell_type": "code",
      "execution_count": null,
      "metadata": {
        "id": "MWDOFc-QDQ7U"
      },
      "outputs": [],
      "source": [
        "images32 = [skimage.transform.resize(image, (32, 32), mode='constant')\n",
        "                for image in images]"
      ]
    },
    {
      "cell_type": "markdown",
      "source": [
        "Resize Testing images,Enter size of your choice if not 32x32"
      ],
      "metadata": {
        "id": "E35MiMzazUKA"
      }
    },
    {
      "cell_type": "code",
      "execution_count": null,
      "metadata": {
        "id": "B6mXMGGfDUbc"
      },
      "outputs": [],
      "source": [
        "test_images32 = [skimage.transform.resize(img, (32, 32), mode='constant')\n",
        "                for img in test_images]"
      ]
    },
    {
      "cell_type": "markdown",
      "source": [
        "Convert training and testing images to Numpy arrays"
      ],
      "metadata": {
        "id": "-clCvYnkzX4U"
      }
    },
    {
      "cell_type": "code",
      "execution_count": null,
      "metadata": {
        "id": "DAkA52zpDdj7"
      },
      "outputs": [],
      "source": [
        "image_data = np.array(images32)\n",
        "print(image_data.shape)\n",
        "label_data = np.array(labels)\n",
        "print(label_data.shape)"
      ]
    },
    {
      "cell_type": "code",
      "execution_count": null,
      "metadata": {
        "id": "iU-wd1U6DfxX"
      },
      "outputs": [],
      "source": [
        "test_image_data = np.array(test_images32)\n",
        "print(test_image_data.shape)\n",
        "test_label_data = np.array(test_labels)\n",
        "print(test_label_data.shape)"
      ]
    },
    {
      "cell_type": "markdown",
      "source": [
        "Train,test and split training data"
      ],
      "metadata": {
        "id": "zjQT97xuzk32"
      }
    },
    {
      "cell_type": "code",
      "execution_count": null,
      "metadata": {
        "id": "3YMN6pOpDhqO"
      },
      "outputs": [],
      "source": [
        "X_train, X_val, y_train,y_val = train_test_split(image_data, label_data,test_size=0.3, random_state=0,shuffle=True)\n",
        "\n",
        "\n",
        "print(X_train.shape)\n",
        "print(X_val.shape)\n",
        "print(y_train.shape)\n",
        "print(y_val.shape)\n"
      ]
    },
    {
      "cell_type": "code",
      "execution_count": null,
      "metadata": {
        "id": "yXnXGtdQDj-2"
      },
      "outputs": [],
      "source": [
        "y_train = keras.utils.to_categorical(y_train,\"enter numerical value of classes in your dataset\")\n",
        "y_val = keras.utils.to_categorical(y_val,\"enter numerical value of classes in your dataset\")\n",
        "\n",
        "\n",
        "print(y_train.shape)\n",
        "print(y_val.shape)"
      ]
    },
    {
      "cell_type": "markdown",
      "source": [
        "Train,test and split testing data"
      ],
      "metadata": {
        "id": "TtNeSpRgzfW0"
      }
    },
    {
      "cell_type": "code",
      "execution_count": null,
      "metadata": {
        "id": "GOlxZDz8Dl2G"
      },
      "outputs": [],
      "source": [
        "X_test, X_valid, y_test, y_valid=train_test_split(test_image_data, test_label_data, random_state=0,shuffle=True)"
      ]
    },
    {
      "cell_type": "code",
      "execution_count": null,
      "metadata": {
        "id": "Onj1DiIyDo4L"
      },
      "outputs": [],
      "source": [
        "print(X_test.shape)\n",
        "print(X_valid.shape)\n",
        "print(y_test.shape)\n",
        "print(y_valid.shape)"
      ]
    },
    {
      "cell_type": "code",
      "execution_count": null,
      "metadata": {
        "id": "A3auSzCmDqo-"
      },
      "outputs": [],
      "source": [
        "y_test = keras.utils.to_categorical(y_test,\"enter numerical value of classes in your dataset\")\n",
        "y_valid = keras.utils.to_categorical(y_valid,\"enter numerical value of classes in your dataset\")\n",
        "\n",
        "\n",
        "print(y_test.shape)\n",
        "print(y_valid.shape)"
      ]
    },
    {
      "cell_type": "markdown",
      "metadata": {
        "id": "Uh_ivQtmEhLI"
      },
      "source": [
        "Expand Training data"
      ]
    },
    {
      "cell_type": "code",
      "execution_count": null,
      "metadata": {
        "id": "BcXNFDLKDtcI"
      },
      "outputs": [],
      "source": [
        "from tensorflow.keras.layers.experimental import preprocessing\n",
        "from tensorflow.data import AUTOTUNE\n",
        "from imutils import paths\n",
        "import matplotlib.pyplot as plt\n",
        "import tensorflow as tf\n",
        "import argparse\n",
        "import os\n",
        "from tensorflow.keras.preprocessing.image  import ImageDataGenerator"
      ]
    },
    {
      "cell_type": "code",
      "execution_count": null,
      "metadata": {
        "id": "UuMg5fTYDxU9"
      },
      "outputs": [],
      "source": [
        "data_augmentation  = ImageDataGenerator(\n",
        "\t\t                 rotation_range = 20,\n",
        "\t\t\t\t\t\t\t\t\t\t zoom_range = 0.15,\n",
        "\t\t\t\t\t\t\t\t\t\t width_shift_range = 0.1,\n",
        "\t\t\t\t\t\t\t\t\t\t horizontal_flip = True,\n",
        "\t\t\t\t\t\t\t\t\t\t vertical_flip = True,\n",
        "                     featurewise_center=True,\n",
        "\t\t\t\t\t\t\t\t\t\t fill_mode =\"nearest\")"
      ]
    },
    {
      "cell_type": "markdown",
      "metadata": {
        "id": "_uz1Y6McEjXx"
      },
      "source": [
        "NN layer"
      ]
    },
    {
      "cell_type": "code",
      "execution_count": null,
      "metadata": {
        "id": "OEhKc0WxDzKF"
      },
      "outputs": [],
      "source": [
        "model = keras.models.Sequential([\n",
        "    keras.layers.Conv2D(filters =32, kernel_size=(3,3),activation='relu',input_shape =X_train.shape[1:]),\n",
        "    keras.layers.Conv2D(filters =32, kernel_size=(3,3),activation='relu'),\n",
        "    keras.layers.MaxPool2D(pool_size=(2,2)),\n",
        "    keras.layers.Dropout(rate=0.25),\n",
        "\n",
        "    keras.layers.Conv2D(filters =64, kernel_size=(3,3),activation='relu'),\n",
        "    keras.layers.Conv2D(filters =64, kernel_size=(3,3),activation='relu'),\n",
        "    keras.layers.MaxPool2D(pool_size=(2,2)),\n",
        "    keras.layers.Dropout(rate=0.25),\n",
        "\n",
        "    keras.layers.Flatten(),\n",
        "    keras.layers.Dense(512, activation ='relu'),\n",
        "    keras.layers.BatchNormalization(axis=-1),\n",
        "    keras.layers.Dropout(rate=0.5),\n",
        "\n",
        "    keras.layers.Dense(7, activation ='softmax')\n",
        "\n",
        "])"
      ]
    },
    {
      "cell_type": "code",
      "execution_count": null,
      "metadata": {
        "id": "nt0oDH7iDz_s"
      },
      "outputs": [],
      "source": [
        "epochs = 100\n",
        "lr =0.001\n",
        "\n",
        "optimizer = keras.optimizers.Adam(learning_rate=lr, decay = lr/(epochs*0.5))\n",
        "model.compile(loss='categorical_crossentropy', optimizer=optimizer, metrics=['accuracy'])"
      ]
    },
    {
      "cell_type": "markdown",
      "metadata": {
        "id": "LRp21VfdEoQ5"
      },
      "source": [
        "Training the network for 100 epochs, change epochs and batch size according to your choice"
      ]
    },
    {
      "cell_type": "code",
      "source": [
        "history = model.fit(data_augmentation.flow(X_train,y_train, batch_size=20),epochs=epochs, validation_data=(X_val, y_val))"
      ],
      "metadata": {
        "id": "6QKDEeLA1IcD"
      },
      "execution_count": null,
      "outputs": []
    },
    {
      "cell_type": "markdown",
      "source": [
        "Test your model"
      ],
      "metadata": {
        "id": "qAriUriK09S1"
      }
    },
    {
      "cell_type": "code",
      "execution_count": null,
      "metadata": {
        "colab": {
          "base_uri": "https://localhost:8080/"
        },
        "id": "06ylLCu0D9cY",
        "outputId": "798449c3-16b9-456d-b62f-8351763c65d0"
      },
      "outputs": [
        {
          "name": "stdout",
          "output_type": "stream",
          "text": [
            "3/3 [==============================] - 0s 22ms/step - loss: 0.9489 - accuracy: 0.9103\n"
          ]
        },
        {
          "data": {
            "text/plain": [
              "[0.9489033818244934, 0.9102563858032227]"
            ]
          },
          "execution_count": 24,
          "metadata": {},
          "output_type": "execute_result"
        }
      ],
      "source": [
        "model.evaluate(x=X_test, y=y_test)"
      ]
    }
  ],
  "metadata": {
    "colab": {
      "provenance": []
    },
    "kernelspec": {
      "display_name": "Python 3",
      "name": "python3"
    },
    "language_info": {
      "name": "python"
    }
  },
  "nbformat": 4,
  "nbformat_minor": 0
}