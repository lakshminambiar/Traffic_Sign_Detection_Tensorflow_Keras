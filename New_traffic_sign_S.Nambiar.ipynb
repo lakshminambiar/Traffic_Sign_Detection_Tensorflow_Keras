{
  "cells": [
    {
      "cell_type": "code",
      "execution_count": 2,
      "metadata": {
        "id": "SyWAoj49DGjW"
      },
      "outputs": [],
      "source": [
        "import os\n",
        "import random\n",
        "import skimage.io\n",
        "import skimage.transform\n",
        "import matplotlib\n",
        "import matplotlib.pyplot as plt\n",
        "import numpy as np\n",
        "from scipy import ndimage\n",
        "from skimage import color\n",
        "from skimage import filters\n",
        "\n",
        "import keras\n",
        "from keras.models import Sequential\n",
        "from keras.layers import Dense, Flatten\n",
        "from keras.optimizers import SGD\n",
        "from keras.layers import Dropout\n",
        "from keras.optimizers import RMSprop\n",
        "from keras.layers.core import Dense, Dropout, Activation, Flatten\n",
        "from keras.layers.convolutional import Conv2D\n",
        "from keras.layers.pooling import MaxPooling2D\n",
        "from keras.utils import np_utils\n",
        "from keras.callbacks import LearningRateScheduler, ModelCheckpoint\n",
        "from keras import backend as K\n",
        "\n",
        "# Allow image embeding in notebook\n",
        "%matplotlib inline"
      ]
    },
    {
      "cell_type": "code",
      "execution_count": 3,
      "metadata": {
        "id": "l6JQAq_gDJDG"
      },
      "outputs": [],
      "source": [
        "import cv2 as cv2\n",
        "import tensorflow as tf"
      ]
    },
    {
      "cell_type": "code",
      "execution_count": 4,
      "metadata": {
        "id": "0ftBsw9XDLQX"
      },
      "outputs": [],
      "source": [
        "def load_data(data_dir):\n",
        "    \"\"\"Loads a data set and returns two lists:\n",
        "    images: a list of Numpy arrays, each representing an image.\n",
        "    labels: a list of numbers that represent the images labels.\n",
        "    This function could be used for both training data and testing data.\n",
        "    \"\"\"\n",
        "    # Get all subdirectories of data_dir. Each represents a label.\n",
        "    directories = [d for d in os.listdir(data_dir) \n",
        "                   if os.path.isdir(os.path.join(data_dir, d))]\n",
        "    # Loop through the label directories and collect the data in\n",
        "    # two lists, labels and images.\n",
        "    labels = []\n",
        "    images = []\n",
        "    for d in directories:\n",
        "        \n",
        "        label_dir = os.path.join(data_dir, d)\n",
        "        # print(label_dir) yes\n",
        "        file_names = [os.path.join(label_dir, f) \n",
        "                      for f in os.listdir(label_dir) if f.endswith(\".ppm\")]\n",
        "        # For each label, load it's images and add them to the images list.\n",
        "        # And add the label number (i.e. directory name) to the labels list.\n",
        "        # print(file_names)\n",
        "        for f in file_names:\n",
        "            print(f)\n",
        "            img = skimage.io.imread(f)\n",
        "            images.append(img)\n",
        "            print(img.shape)\n",
        "            labels.append(int(d))\n",
        "    return images, labels"
      ]
    },
    {
      "cell_type": "code",
      "execution_count": 5,
      "metadata": {
        "id": "wWK0ZbriDNMB"
      },
      "outputs": [],
      "source": [
        "from sklearn.model_selection import train_test_split"
      ]
    },
    {
      "cell_type": "markdown",
      "metadata": {
        "id": "ojGMqGf3EaPo"
      },
      "source": [
        "Load & Parse Data"
      ]
    },
    {
      "cell_type": "code",
      "execution_count": null,
      "metadata": {
        "id": "DnCV9hCfDPqN"
      },
      "outputs": [],
      "source": [
        "ROOT_PATH = \"insert directory of your data\"\n",
        "train_data_dir = os.path.join(ROOT_PATH,\"insert directory of your training data\")\n",
        "test_data_dir =  os.path.join(ROOT_PATH,\"insert directory of your testing data\")\n",
        "images, labels = load_data(train_data_dir)\n",
        "test_images, test_labels = load_data(test_data_dir)"
      ]
    },
    {
      "attachments": {},
      "cell_type": "markdown",
      "metadata": {
        "id": "PfVgLj63Ec5U"
      },
      "source": [
        "Resizing Training  data"
      ]
    },
    {
      "cell_type": "code",
      "execution_count": 7,
      "metadata": {
        "id": "MWDOFc-QDQ7U"
      },
      "outputs": [],
      "source": [
        "images32 = [skimage.transform.resize(image, (32, 32), mode='constant')\n",
        "                for image in images]"
      ]
    },
    {
      "cell_type": "code",
      "execution_count": 9,
      "metadata": {
        "id": "B6mXMGGfDUbc"
      },
      "outputs": [],
      "source": [
        "test_images32 = [skimage.transform.resize(img, (32, 32), mode='constant')\n",
        "                for img in test_images]"
      ]
    },
    {
      "cell_type": "code",
      "execution_count": 10,
      "metadata": {
        "colab": {
          "base_uri": "https://localhost:8080/"
        },
        "id": "DAkA52zpDdj7",
        "outputId": "fda906a9-6a7b-4ac3-f9bf-4bce6f4d2204"
      },
      "outputs": [
        {
          "name": "stdout",
          "output_type": "stream",
          "text": [
            "(25, 32, 32, 3)\n",
            "(25,)\n"
          ]
        }
      ],
      "source": [
        "image_data = np.array(images32)\n",
        "#image_labels = np.array(image_labels)\n",
        "print(image_data.shape)\n",
        "label_data = np.array(labels)\n",
        "print(label_data.shape)"
      ]
    },
    {
      "cell_type": "code",
      "execution_count": 11,
      "metadata": {
        "colab": {
          "base_uri": "https://localhost:8080/"
        },
        "id": "iU-wd1U6DfxX",
        "outputId": "e27f714b-212d-4133-b8db-15fb87e0889f"
      },
      "outputs": [
        {
          "name": "stdout",
          "output_type": "stream",
          "text": [
            "(104, 32, 32, 3)\n",
            "(104,)\n"
          ]
        }
      ],
      "source": [
        "test_image_data = np.array(test_images32)\n",
        "#image_labels = np.array(image_labels)\n",
        "print(test_image_data.shape)\n",
        "test_label_data = np.array(test_labels)\n",
        "print(test_label_data.shape)"
      ]
    },
    {
      "cell_type": "code",
      "execution_count": 12,
      "metadata": {
        "colab": {
          "base_uri": "https://localhost:8080/"
        },
        "id": "3YMN6pOpDhqO",
        "outputId": "a88d5a48-672a-48c4-d4dc-999cf99c0262"
      },
      "outputs": [
        {
          "name": "stdout",
          "output_type": "stream",
          "text": [
            "(17, 32, 32, 3)\n",
            "(8, 32, 32, 3)\n",
            "(17,)\n",
            "(8,)\n"
          ]
        }
      ],
      "source": [
        "X_train, X_val, y_train,y_val = train_test_split(image_data, label_data,test_size=0.3, random_state=0,shuffle=True)\n",
        "\n",
        "\n",
        "print(X_train.shape)\n",
        "print(X_val.shape)\n",
        "print(y_train.shape)\n",
        "print(y_val.shape)\n"
      ]
    },
    {
      "cell_type": "code",
      "execution_count": 13,
      "metadata": {
        "colab": {
          "base_uri": "https://localhost:8080/"
        },
        "id": "yXnXGtdQDj-2",
        "outputId": "62462bc9-1d5a-452b-bd5a-67e8d826066e"
      },
      "outputs": [
        {
          "name": "stdout",
          "output_type": "stream",
          "text": [
            "(17, 7)\n",
            "(8, 7)\n"
          ]
        }
      ],
      "source": [
        "y_train = keras.utils.to_categorical(y_train,7)\n",
        "y_val = keras.utils.to_categorical(y_val,7)\n",
        "\n",
        "\n",
        "print(y_train.shape)\n",
        "print(y_val.shape)"
      ]
    },
    {
      "cell_type": "code",
      "execution_count": 14,
      "metadata": {
        "id": "GOlxZDz8Dl2G"
      },
      "outputs": [],
      "source": [
        "X_test, X_valid, y_test, y_valid=train_test_split(test_image_data, test_label_data, random_state=0,shuffle=True)"
      ]
    },
    {
      "cell_type": "code",
      "execution_count": 15,
      "metadata": {
        "colab": {
          "base_uri": "https://localhost:8080/"
        },
        "id": "Onj1DiIyDo4L",
        "outputId": "fe2cdf4e-62cb-475f-9b8c-7eb00b710141"
      },
      "outputs": [
        {
          "name": "stdout",
          "output_type": "stream",
          "text": [
            "(78, 32, 32, 3)\n",
            "(26, 32, 32, 3)\n",
            "(78,)\n",
            "(26,)\n"
          ]
        }
      ],
      "source": [
        "print(X_test.shape)\n",
        "print(X_valid.shape)\n",
        "print(y_test.shape)\n",
        "print(y_valid.shape)"
      ]
    },
    {
      "cell_type": "code",
      "execution_count": 16,
      "metadata": {
        "colab": {
          "base_uri": "https://localhost:8080/"
        },
        "id": "A3auSzCmDqo-",
        "outputId": "623748fb-59e3-416e-c2b8-d48a3b099243"
      },
      "outputs": [
        {
          "name": "stdout",
          "output_type": "stream",
          "text": [
            "(78, 7)\n",
            "(26, 7)\n"
          ]
        }
      ],
      "source": [
        "y_test = keras.utils.to_categorical(y_test,7)\n",
        "y_valid = keras.utils.to_categorical(y_valid,7)\n",
        "\n",
        "\n",
        "print(y_test.shape)\n",
        "print(y_valid.shape)"
      ]
    },
    {
      "cell_type": "markdown",
      "metadata": {
        "id": "Uh_ivQtmEhLI"
      },
      "source": [
        "Expand Training data"
      ]
    },
    {
      "cell_type": "code",
      "execution_count": 17,
      "metadata": {
        "id": "BcXNFDLKDtcI"
      },
      "outputs": [],
      "source": [
        "from tensorflow.keras.layers.experimental import preprocessing\n",
        "from tensorflow.data import AUTOTUNE\n",
        "from imutils import paths\n",
        "import matplotlib.pyplot as plt\n",
        "import tensorflow as tf\n",
        "import argparse\n",
        "import os\n",
        "from tensorflow.keras.preprocessing.image  import ImageDataGenerator"
      ]
    },
    {
      "cell_type": "code",
      "execution_count": 18,
      "metadata": {
        "id": "UuMg5fTYDxU9"
      },
      "outputs": [],
      "source": [
        "data_augmentation  = ImageDataGenerator(\n",
        "\t\t                 rotation_range = 20,\n",
        "\t\t\t\t\t\t\t\t\t\t zoom_range = 0.15,\n",
        "\t\t\t\t\t\t\t\t\t\t width_shift_range = 0.1,\n",
        "\t\t\t\t\t\t\t\t\t\t horizontal_flip = True,\n",
        "\t\t\t\t\t\t\t\t\t\t vertical_flip = True,\n",
        "                     featurewise_center=True,\n",
        "\t\t\t\t\t\t\t\t\t\t fill_mode =\"nearest\")"
      ]
    },
    {
      "cell_type": "markdown",
      "metadata": {
        "id": "_uz1Y6McEjXx"
      },
      "source": [
        "NN layer"
      ]
    },
    {
      "cell_type": "code",
      "execution_count": 19,
      "metadata": {
        "id": "OEhKc0WxDzKF"
      },
      "outputs": [],
      "source": [
        "model = keras.models.Sequential([\n",
        "    keras.layers.Conv2D(filters =32, kernel_size=(3,3),activation='relu',input_shape =X_train.shape[1:]),\n",
        "    keras.layers.Conv2D(filters =32, kernel_size=(3,3),activation='relu'),\n",
        "    keras.layers.MaxPool2D(pool_size=(2,2)),\n",
        "    keras.layers.Dropout(rate=0.25),\n",
        "\n",
        "    keras.layers.Conv2D(filters =64, kernel_size=(3,3),activation='relu'),\n",
        "    keras.layers.Conv2D(filters =64, kernel_size=(3,3),activation='relu'),\n",
        "    keras.layers.MaxPool2D(pool_size=(2,2)),\n",
        "    keras.layers.Dropout(rate=0.25),\n",
        "\n",
        "    keras.layers.Flatten(),\n",
        "    keras.layers.Dense(512, activation ='relu'),\n",
        "    keras.layers.BatchNormalization(axis=-1),\n",
        "    keras.layers.Dropout(rate=0.5),\n",
        "\n",
        "    keras.layers.Dense(7, activation ='softmax')\n",
        "\n",
        "])"
      ]
    },
    {
      "cell_type": "code",
      "execution_count": 20,
      "metadata": {
        "id": "nt0oDH7iDz_s"
      },
      "outputs": [],
      "source": [
        "epochs = 100\n",
        "lr =0.001\n",
        "\n",
        "optimizer = keras.optimizers.Adam(learning_rate=lr, decay = lr/(epochs*0.5))\n",
        "model.compile(loss='categorical_crossentropy', optimizer=optimizer, metrics=['accuracy'])"
      ]
    },
    {
      "cell_type": "markdown",
      "metadata": {
        "id": "LRp21VfdEoQ5"
      },
      "source": [
        "Training the network for 100 epochs"
      ]
    },
    {
      "cell_type": "code",
      "execution_count": 21,
      "metadata": {
        "colab": {
          "base_uri": "https://localhost:8080/"
        },
        "id": "ZJR0agMUD1jP",
        "outputId": "e80da9cb-fe8d-4802-83f2-e6433ea22ad2"
      },
      "outputs": [
        {
          "name": "stderr",
          "output_type": "stream",
          "text": [
            "/usr/local/lib/python3.8/dist-packages/keras/preprocessing/image.py:1663: UserWarning: This ImageDataGenerator specifies `featurewise_center`, but it hasn't been fit on any training data. Fit it first by calling `.fit(numpy_data)`.\n",
            "  warnings.warn('This ImageDataGenerator specifies '\n"
          ]
        },
        {
          "name": "stdout",
          "output_type": "stream",
          "text": [
            "Epoch 1/100\n",
            "1/1 [==============================] - 2s 2s/step - loss: 3.1874 - accuracy: 0.0588 - val_loss: 1.9338 - val_accuracy: 0.2500\n",
            "Epoch 2/100\n",
            "1/1 [==============================] - 0s 139ms/step - loss: 2.9985 - accuracy: 0.1176 - val_loss: 1.9090 - val_accuracy: 0.3750\n",
            "Epoch 3/100\n",
            "1/1 [==============================] - 0s 110ms/step - loss: 2.5109 - accuracy: 0.1765 - val_loss: 1.8796 - val_accuracy: 0.2500\n",
            "Epoch 4/100\n",
            "1/1 [==============================] - 0s 127ms/step - loss: 2.3294 - accuracy: 0.1765 - val_loss: 1.8480 - val_accuracy: 0.2500\n",
            "Epoch 5/100\n",
            "1/1 [==============================] - 0s 135ms/step - loss: 2.2860 - accuracy: 0.1176 - val_loss: 1.8290 - val_accuracy: 0.2500\n",
            "Epoch 6/100\n",
            "1/1 [==============================] - 0s 120ms/step - loss: 1.7971 - accuracy: 0.2353 - val_loss: 1.8123 - val_accuracy: 0.2500\n",
            "Epoch 7/100\n",
            "1/1 [==============================] - 0s 116ms/step - loss: 1.7112 - accuracy: 0.4118 - val_loss: 1.7986 - val_accuracy: 0.2500\n",
            "Epoch 8/100\n",
            "1/1 [==============================] - 0s 123ms/step - loss: 1.1124 - accuracy: 0.6471 - val_loss: 1.7846 - val_accuracy: 0.2500\n",
            "Epoch 9/100\n",
            "1/1 [==============================] - 0s 115ms/step - loss: 1.4439 - accuracy: 0.3529 - val_loss: 1.7672 - val_accuracy: 0.2500\n",
            "Epoch 10/100\n",
            "1/1 [==============================] - 0s 126ms/step - loss: 1.1723 - accuracy: 0.6471 - val_loss: 1.7501 - val_accuracy: 0.2500\n",
            "Epoch 11/100\n",
            "1/1 [==============================] - 0s 113ms/step - loss: 0.8522 - accuracy: 0.6471 - val_loss: 1.7316 - val_accuracy: 0.2500\n",
            "Epoch 12/100\n",
            "1/1 [==============================] - 0s 114ms/step - loss: 0.7099 - accuracy: 0.7059 - val_loss: 1.7110 - val_accuracy: 0.3750\n",
            "Epoch 13/100\n",
            "1/1 [==============================] - 0s 123ms/step - loss: 1.0210 - accuracy: 0.5882 - val_loss: 1.6947 - val_accuracy: 0.3750\n",
            "Epoch 14/100\n",
            "1/1 [==============================] - 0s 113ms/step - loss: 0.6514 - accuracy: 0.7647 - val_loss: 1.6793 - val_accuracy: 0.5000\n",
            "Epoch 15/100\n",
            "1/1 [==============================] - 0s 118ms/step - loss: 0.6061 - accuracy: 0.7647 - val_loss: 1.6682 - val_accuracy: 0.6250\n",
            "Epoch 16/100\n",
            "1/1 [==============================] - 0s 118ms/step - loss: 0.4560 - accuracy: 0.8824 - val_loss: 1.6570 - val_accuracy: 0.7500\n",
            "Epoch 17/100\n",
            "1/1 [==============================] - 0s 110ms/step - loss: 0.8696 - accuracy: 0.6471 - val_loss: 1.6448 - val_accuracy: 0.7500\n",
            "Epoch 18/100\n",
            "1/1 [==============================] - 0s 110ms/step - loss: 0.3668 - accuracy: 0.9412 - val_loss: 1.6306 - val_accuracy: 0.7500\n",
            "Epoch 19/100\n",
            "1/1 [==============================] - 0s 112ms/step - loss: 0.3624 - accuracy: 0.8235 - val_loss: 1.6117 - val_accuracy: 0.7500\n",
            "Epoch 20/100\n",
            "1/1 [==============================] - 0s 113ms/step - loss: 0.2833 - accuracy: 0.8824 - val_loss: 1.5881 - val_accuracy: 0.7500\n",
            "Epoch 21/100\n",
            "1/1 [==============================] - 0s 110ms/step - loss: 0.3915 - accuracy: 0.8824 - val_loss: 1.5653 - val_accuracy: 0.7500\n",
            "Epoch 22/100\n",
            "1/1 [==============================] - 0s 114ms/step - loss: 0.4932 - accuracy: 0.8235 - val_loss: 1.5299 - val_accuracy: 0.7500\n",
            "Epoch 23/100\n",
            "1/1 [==============================] - 0s 132ms/step - loss: 0.1570 - accuracy: 0.9412 - val_loss: 1.4988 - val_accuracy: 0.7500\n",
            "Epoch 24/100\n",
            "1/1 [==============================] - 0s 116ms/step - loss: 0.2166 - accuracy: 0.9412 - val_loss: 1.4685 - val_accuracy: 0.7500\n",
            "Epoch 25/100\n",
            "1/1 [==============================] - 0s 121ms/step - loss: 0.1891 - accuracy: 0.9412 - val_loss: 1.4350 - val_accuracy: 0.7500\n",
            "Epoch 26/100\n",
            "1/1 [==============================] - 0s 115ms/step - loss: 0.2681 - accuracy: 0.8824 - val_loss: 1.4089 - val_accuracy: 0.7500\n",
            "Epoch 27/100\n",
            "1/1 [==============================] - 0s 117ms/step - loss: 0.4049 - accuracy: 0.8235 - val_loss: 1.3885 - val_accuracy: 0.7500\n",
            "Epoch 28/100\n",
            "1/1 [==============================] - 0s 109ms/step - loss: 0.1374 - accuracy: 1.0000 - val_loss: 1.3754 - val_accuracy: 0.8750\n",
            "Epoch 29/100\n",
            "1/1 [==============================] - 0s 118ms/step - loss: 0.3747 - accuracy: 0.8824 - val_loss: 1.3647 - val_accuracy: 0.8750\n",
            "Epoch 30/100\n",
            "1/1 [==============================] - 0s 112ms/step - loss: 0.1150 - accuracy: 1.0000 - val_loss: 1.3560 - val_accuracy: 0.8750\n",
            "Epoch 31/100\n",
            "1/1 [==============================] - 0s 113ms/step - loss: 0.0653 - accuracy: 1.0000 - val_loss: 1.3477 - val_accuracy: 1.0000\n",
            "Epoch 32/100\n",
            "1/1 [==============================] - 0s 114ms/step - loss: 0.1062 - accuracy: 0.9412 - val_loss: 1.3407 - val_accuracy: 1.0000\n",
            "Epoch 33/100\n",
            "1/1 [==============================] - 0s 116ms/step - loss: 0.1356 - accuracy: 1.0000 - val_loss: 1.3368 - val_accuracy: 1.0000\n",
            "Epoch 34/100\n",
            "1/1 [==============================] - 0s 113ms/step - loss: 0.0899 - accuracy: 1.0000 - val_loss: 1.3316 - val_accuracy: 1.0000\n",
            "Epoch 35/100\n",
            "1/1 [==============================] - 0s 119ms/step - loss: 0.2437 - accuracy: 0.8824 - val_loss: 1.3177 - val_accuracy: 1.0000\n",
            "Epoch 36/100\n",
            "1/1 [==============================] - 0s 120ms/step - loss: 0.1829 - accuracy: 0.9412 - val_loss: 1.3112 - val_accuracy: 1.0000\n",
            "Epoch 37/100\n",
            "1/1 [==============================] - 0s 123ms/step - loss: 0.0976 - accuracy: 1.0000 - val_loss: 1.3053 - val_accuracy: 1.0000\n",
            "Epoch 38/100\n",
            "1/1 [==============================] - 0s 115ms/step - loss: 0.1639 - accuracy: 0.9412 - val_loss: 1.3066 - val_accuracy: 1.0000\n",
            "Epoch 39/100\n",
            "1/1 [==============================] - 0s 114ms/step - loss: 0.0204 - accuracy: 1.0000 - val_loss: 1.3090 - val_accuracy: 1.0000\n",
            "Epoch 40/100\n",
            "1/1 [==============================] - 0s 112ms/step - loss: 0.0241 - accuracy: 1.0000 - val_loss: 1.3126 - val_accuracy: 1.0000\n",
            "Epoch 41/100\n",
            "1/1 [==============================] - 0s 115ms/step - loss: 0.0430 - accuracy: 1.0000 - val_loss: 1.3130 - val_accuracy: 0.8750\n",
            "Epoch 42/100\n",
            "1/1 [==============================] - 0s 125ms/step - loss: 0.0812 - accuracy: 1.0000 - val_loss: 1.3069 - val_accuracy: 0.8750\n",
            "Epoch 43/100\n",
            "1/1 [==============================] - 0s 112ms/step - loss: 0.0227 - accuracy: 1.0000 - val_loss: 1.2991 - val_accuracy: 0.8750\n",
            "Epoch 44/100\n",
            "1/1 [==============================] - 0s 119ms/step - loss: 0.1037 - accuracy: 1.0000 - val_loss: 1.2926 - val_accuracy: 1.0000\n",
            "Epoch 45/100\n",
            "1/1 [==============================] - 0s 118ms/step - loss: 0.0889 - accuracy: 1.0000 - val_loss: 1.2797 - val_accuracy: 1.0000\n",
            "Epoch 46/100\n",
            "1/1 [==============================] - 0s 111ms/step - loss: 0.0703 - accuracy: 0.9412 - val_loss: 1.2556 - val_accuracy: 1.0000\n",
            "Epoch 47/100\n",
            "1/1 [==============================] - 0s 115ms/step - loss: 0.0292 - accuracy: 1.0000 - val_loss: 1.2314 - val_accuracy: 1.0000\n",
            "Epoch 48/100\n",
            "1/1 [==============================] - 0s 116ms/step - loss: 0.0567 - accuracy: 1.0000 - val_loss: 1.2098 - val_accuracy: 1.0000\n",
            "Epoch 49/100\n",
            "1/1 [==============================] - 0s 113ms/step - loss: 0.0233 - accuracy: 1.0000 - val_loss: 1.1884 - val_accuracy: 1.0000\n",
            "Epoch 50/100\n",
            "1/1 [==============================] - 0s 127ms/step - loss: 0.0310 - accuracy: 1.0000 - val_loss: 1.1680 - val_accuracy: 1.0000\n",
            "Epoch 51/100\n",
            "1/1 [==============================] - 0s 129ms/step - loss: 0.0140 - accuracy: 1.0000 - val_loss: 1.1487 - val_accuracy: 1.0000\n",
            "Epoch 52/100\n",
            "1/1 [==============================] - 0s 116ms/step - loss: 0.0290 - accuracy: 1.0000 - val_loss: 1.1295 - val_accuracy: 1.0000\n",
            "Epoch 53/100\n",
            "1/1 [==============================] - 0s 117ms/step - loss: 0.0521 - accuracy: 1.0000 - val_loss: 1.1078 - val_accuracy: 1.0000\n",
            "Epoch 54/100\n",
            "1/1 [==============================] - 0s 116ms/step - loss: 0.0151 - accuracy: 1.0000 - val_loss: 1.0881 - val_accuracy: 1.0000\n",
            "Epoch 55/100\n",
            "1/1 [==============================] - 0s 117ms/step - loss: 0.0241 - accuracy: 1.0000 - val_loss: 1.0706 - val_accuracy: 1.0000\n",
            "Epoch 56/100\n",
            "1/1 [==============================] - 0s 117ms/step - loss: 0.0114 - accuracy: 1.0000 - val_loss: 1.0550 - val_accuracy: 1.0000\n",
            "Epoch 57/100\n",
            "1/1 [==============================] - 0s 111ms/step - loss: 0.0157 - accuracy: 1.0000 - val_loss: 1.0413 - val_accuracy: 1.0000\n",
            "Epoch 58/100\n",
            "1/1 [==============================] - 0s 142ms/step - loss: 0.0368 - accuracy: 1.0000 - val_loss: 1.0308 - val_accuracy: 1.0000\n",
            "Epoch 59/100\n",
            "1/1 [==============================] - 0s 109ms/step - loss: 0.0146 - accuracy: 1.0000 - val_loss: 1.0232 - val_accuracy: 1.0000\n",
            "Epoch 60/100\n",
            "1/1 [==============================] - 0s 115ms/step - loss: 0.0626 - accuracy: 1.0000 - val_loss: 1.0192 - val_accuracy: 1.0000\n",
            "Epoch 61/100\n",
            "1/1 [==============================] - 0s 117ms/step - loss: 0.0425 - accuracy: 1.0000 - val_loss: 1.0207 - val_accuracy: 1.0000\n",
            "Epoch 62/100\n",
            "1/1 [==============================] - 0s 117ms/step - loss: 0.0253 - accuracy: 1.0000 - val_loss: 1.0169 - val_accuracy: 1.0000\n",
            "Epoch 63/100\n",
            "1/1 [==============================] - 0s 117ms/step - loss: 0.0084 - accuracy: 1.0000 - val_loss: 1.0127 - val_accuracy: 1.0000\n",
            "Epoch 64/100\n",
            "1/1 [==============================] - 0s 117ms/step - loss: 0.0053 - accuracy: 1.0000 - val_loss: 1.0095 - val_accuracy: 1.0000\n",
            "Epoch 65/100\n",
            "1/1 [==============================] - 0s 120ms/step - loss: 0.0122 - accuracy: 1.0000 - val_loss: 1.0062 - val_accuracy: 1.0000\n",
            "Epoch 66/100\n",
            "1/1 [==============================] - 0s 119ms/step - loss: 0.0317 - accuracy: 1.0000 - val_loss: 0.9960 - val_accuracy: 1.0000\n",
            "Epoch 67/100\n",
            "1/1 [==============================] - 0s 118ms/step - loss: 0.0333 - accuracy: 1.0000 - val_loss: 0.9836 - val_accuracy: 1.0000\n",
            "Epoch 68/100\n",
            "1/1 [==============================] - 0s 115ms/step - loss: 0.0106 - accuracy: 1.0000 - val_loss: 0.9728 - val_accuracy: 1.0000\n",
            "Epoch 69/100\n",
            "1/1 [==============================] - 0s 116ms/step - loss: 0.0133 - accuracy: 1.0000 - val_loss: 0.9624 - val_accuracy: 1.0000\n",
            "Epoch 70/100\n",
            "1/1 [==============================] - 0s 112ms/step - loss: 0.0541 - accuracy: 1.0000 - val_loss: 0.9486 - val_accuracy: 1.0000\n",
            "Epoch 71/100\n",
            "1/1 [==============================] - 0s 113ms/step - loss: 0.0138 - accuracy: 1.0000 - val_loss: 0.9393 - val_accuracy: 1.0000\n",
            "Epoch 72/100\n",
            "1/1 [==============================] - 0s 114ms/step - loss: 0.0109 - accuracy: 1.0000 - val_loss: 0.9332 - val_accuracy: 1.0000\n",
            "Epoch 73/100\n",
            "1/1 [==============================] - 0s 117ms/step - loss: 0.0073 - accuracy: 1.0000 - val_loss: 0.9289 - val_accuracy: 1.0000\n",
            "Epoch 74/100\n",
            "1/1 [==============================] - 0s 116ms/step - loss: 0.0144 - accuracy: 1.0000 - val_loss: 0.9258 - val_accuracy: 1.0000\n",
            "Epoch 75/100\n",
            "1/1 [==============================] - 0s 119ms/step - loss: 0.0127 - accuracy: 1.0000 - val_loss: 0.9233 - val_accuracy: 1.0000\n",
            "Epoch 76/100\n",
            "1/1 [==============================] - 0s 134ms/step - loss: 0.0338 - accuracy: 1.0000 - val_loss: 0.9192 - val_accuracy: 1.0000\n",
            "Epoch 77/100\n",
            "1/1 [==============================] - 0s 117ms/step - loss: 0.0138 - accuracy: 1.0000 - val_loss: 0.9129 - val_accuracy: 1.0000\n",
            "Epoch 78/100\n",
            "1/1 [==============================] - 0s 112ms/step - loss: 0.0096 - accuracy: 1.0000 - val_loss: 0.9068 - val_accuracy: 1.0000\n",
            "Epoch 79/100\n",
            "1/1 [==============================] - 0s 113ms/step - loss: 0.0204 - accuracy: 1.0000 - val_loss: 0.9044 - val_accuracy: 1.0000\n",
            "Epoch 80/100\n",
            "1/1 [==============================] - 0s 123ms/step - loss: 0.0286 - accuracy: 1.0000 - val_loss: 0.9052 - val_accuracy: 1.0000\n",
            "Epoch 81/100\n",
            "1/1 [==============================] - 0s 119ms/step - loss: 0.0109 - accuracy: 1.0000 - val_loss: 0.9089 - val_accuracy: 1.0000\n",
            "Epoch 82/100\n",
            "1/1 [==============================] - 0s 116ms/step - loss: 0.0124 - accuracy: 1.0000 - val_loss: 0.9163 - val_accuracy: 1.0000\n",
            "Epoch 83/100\n",
            "1/1 [==============================] - 0s 115ms/step - loss: 0.0073 - accuracy: 1.0000 - val_loss: 0.9265 - val_accuracy: 1.0000\n",
            "Epoch 84/100\n",
            "1/1 [==============================] - 0s 111ms/step - loss: 0.0106 - accuracy: 1.0000 - val_loss: 0.9428 - val_accuracy: 1.0000\n",
            "Epoch 85/100\n",
            "1/1 [==============================] - 0s 110ms/step - loss: 0.0151 - accuracy: 1.0000 - val_loss: 0.9556 - val_accuracy: 1.0000\n",
            "Epoch 86/100\n",
            "1/1 [==============================] - 0s 111ms/step - loss: 0.0034 - accuracy: 1.0000 - val_loss: 0.9682 - val_accuracy: 0.8750\n",
            "Epoch 87/100\n",
            "1/1 [==============================] - 0s 118ms/step - loss: 0.0121 - accuracy: 1.0000 - val_loss: 0.9703 - val_accuracy: 0.8750\n",
            "Epoch 88/100\n",
            "1/1 [==============================] - 0s 122ms/step - loss: 0.0567 - accuracy: 0.9412 - val_loss: 0.9514 - val_accuracy: 1.0000\n",
            "Epoch 89/100\n",
            "1/1 [==============================] - 0s 118ms/step - loss: 0.0142 - accuracy: 1.0000 - val_loss: 0.9308 - val_accuracy: 1.0000\n",
            "Epoch 90/100\n",
            "1/1 [==============================] - 0s 115ms/step - loss: 0.0074 - accuracy: 1.0000 - val_loss: 0.9122 - val_accuracy: 1.0000\n",
            "Epoch 91/100\n",
            "1/1 [==============================] - 0s 109ms/step - loss: 0.0129 - accuracy: 1.0000 - val_loss: 0.8910 - val_accuracy: 1.0000\n",
            "Epoch 92/100\n",
            "1/1 [==============================] - 0s 114ms/step - loss: 0.0087 - accuracy: 1.0000 - val_loss: 0.8729 - val_accuracy: 1.0000\n",
            "Epoch 93/100\n",
            "1/1 [==============================] - 0s 119ms/step - loss: 0.0126 - accuracy: 1.0000 - val_loss: 0.8556 - val_accuracy: 1.0000\n",
            "Epoch 94/100\n",
            "1/1 [==============================] - 0s 115ms/step - loss: 0.0098 - accuracy: 1.0000 - val_loss: 0.8406 - val_accuracy: 1.0000\n",
            "Epoch 95/100\n",
            "1/1 [==============================] - 0s 128ms/step - loss: 0.0077 - accuracy: 1.0000 - val_loss: 0.8266 - val_accuracy: 1.0000\n",
            "Epoch 96/100\n",
            "1/1 [==============================] - 0s 118ms/step - loss: 0.0137 - accuracy: 1.0000 - val_loss: 0.8128 - val_accuracy: 1.0000\n",
            "Epoch 97/100\n",
            "1/1 [==============================] - 0s 111ms/step - loss: 0.0049 - accuracy: 1.0000 - val_loss: 0.8019 - val_accuracy: 1.0000\n",
            "Epoch 98/100\n",
            "1/1 [==============================] - 0s 115ms/step - loss: 0.0020 - accuracy: 1.0000 - val_loss: 0.7919 - val_accuracy: 1.0000\n",
            "Epoch 99/100\n",
            "1/1 [==============================] - 0s 111ms/step - loss: 0.0039 - accuracy: 1.0000 - val_loss: 0.7827 - val_accuracy: 1.0000\n",
            "Epoch 100/100\n",
            "1/1 [==============================] - 0s 115ms/step - loss: 0.0013 - accuracy: 1.0000 - val_loss: 0.7740 - val_accuracy: 1.0000\n"
          ]
        }
      ],
      "source": [
        "history = model.fit(data_augmentation.flow(X_train,y_train, batch_size=20),epochs=epochs, validation_data=(X_val, y_val))"
      ]
    },
    {
      "cell_type": "code",
      "execution_count": 24,
      "metadata": {
        "colab": {
          "base_uri": "https://localhost:8080/"
        },
        "id": "06ylLCu0D9cY",
        "outputId": "798449c3-16b9-456d-b62f-8351763c65d0"
      },
      "outputs": [
        {
          "name": "stdout",
          "output_type": "stream",
          "text": [
            "3/3 [==============================] - 0s 22ms/step - loss: 0.9489 - accuracy: 0.9103\n"
          ]
        },
        {
          "data": {
            "text/plain": [
              "[0.9489033818244934, 0.9102563858032227]"
            ]
          },
          "execution_count": 24,
          "metadata": {},
          "output_type": "execute_result"
        }
      ],
      "source": [
        "model.evaluate(x=X_test, y=y_test)"
      ]
    }
  ],
  "metadata": {
    "colab": {
      "provenance": []
    },
    "kernelspec": {
      "display_name": "Python 3",
      "name": "python3"
    },
    "language_info": {
      "name": "python"
    }
  },
  "nbformat": 4,
  "nbformat_minor": 0
}
